{
 "cells": [
  {
   "cell_type": "code",
   "execution_count": 39,
   "id": "3ce8f9db",
   "metadata": {
    "scrolled": true,
    "slideshow": {
     "slide_type": "skip"
    }
   },
   "outputs": [],
   "source": [
    "%load_ext dotenv\n",
    "%dotenv\n",
    "\n",
    "import json\n",
    "import os\n",
    "from pprint import pprint\n",
    "\n",
    "import requests\n",
    "\n",
    "GOOGLE_API_KEY = os.environ.get('GOOGLE_API_KEY')\n",
    "if GOOGLE_API_KEY is None:\n",
    "    raise ValueError('GOOGLE_API_KEY should not be None')"
   ]
  },
  {
   "cell_type": "markdown",
   "id": "58d1a71e",
   "metadata": {
    "slideshow": {
     "slide_type": "slide"
    }
   },
   "source": [
    "# <center> API REST : interagir avec le Web sans la souris </center>\n",
    "\n",
    "\n",
    "<br>\n",
    "\n",
    "<center>Gabriel Couture, Félix-Antoine Fortin, Olivier Chouinard-Banville</center>\n"
   ]
  },
  {
   "cell_type": "markdown",
   "id": "8025cdd1",
   "metadata": {
    "slideshow": {
     "slide_type": "notes"
    }
   },
   "source": [
    "Bonjour à tous, bienvenu à la présentation \"API REST : interagir avec le Web sans la souris\".\n",
    "\n",
    "Je m'apelle Gabriel Couture et je suis membre de l'équipe de développement de logiciels de recherche de l'Université Laval. Félix-Antoine Fortin et Olivier Chouinard-Banville sont mes collègues."
   ]
  },
  {
   "cell_type": "markdown",
   "id": "a464a7e5",
   "metadata": {
    "slideshow": {
     "slide_type": "slide"
    }
   },
   "source": [
    "## Plan de la présentation\n",
    "- Le Web\n",
    "    - D'abord, c'est quoi le Web?\n",
    "    - Le HTML\n",
    "    - Que se passe-t-il quand on navigue sur des sites Web\n",
    "    - Limitations du HTML -> API REST\n",
    "- Qu'est-ce qu'une API REST?\n",
    "- Comment utiliser une API REST\n",
    "    - Méthodes typiques (GET, POST, PUT, DELETE)\n",
    "    - Format JSON\n",
    "    - Codes HTTP\n",
    "    - Formuler une requête et comprendre la réponse avec Python\n",
    "- Exemples d'utlisation d'API REST\n",
    "    - Exemple simple\n",
    "    - Google Traduction\n",
    "    - Étude du cancer du sein\n",
    "    "
   ]
  },
  {
   "cell_type": "markdown",
   "id": "b1156cb3",
   "metadata": {
    "slideshow": {
     "slide_type": "notes"
    }
   },
   "source": [
    "L'objectif de la présentation est d'abord de comprendre le web ou les API REST pourraient être pertinent pour vous et après comment c'est quoi.\n",
    "Esuite, ce sera de comprendre comment utiliser et dans quelles situations les utiliser. \n",
    "\n",
    "Finalement, on va voir des exemples concrets de comment des physiciens/ingénieurs/scientifiques peuvent utiliser ça dans de vrais situations. "
   ]
  },
  {
   "cell_type": "markdown",
   "id": "ae5ade34",
   "metadata": {
    "slideshow": {
     "slide_type": "slide"
    }
   },
   "source": [
    "# <center>Le Web</center>\n"
   ]
  },
  {
   "cell_type": "markdown",
   "id": "0ea95846",
   "metadata": {
    "slideshow": {
     "slide_type": "slide"
    }
   },
   "source": [
    "## D'abord, c'est quoi le Web?\n",
    "\n",
    "- Le _World Wide Web_ est un système de communication d'__hypertexte__ sur internet\n",
    "- Plus précisément, il rend possible de communicer de l'hypertexte via le __HyperText Transfer Protocol (HTTP)__\n",
    "- Permet de rendre accessible des __données, informations et fonctionnalités à distance__"
   ]
  },
  {
   "cell_type": "markdown",
   "id": "f527360a",
   "metadata": {
    "slideshow": {
     "slide_type": "fragment"
    }
   },
   "source": [
    "- Architecture __client-serveur__\n",
    "<center><img src=\"./images/client-serveur.png\" style=\"width: 800px;\"></center>"
   ]
  },
  {
   "cell_type": "markdown",
   "id": "e9db8fb3",
   "metadata": {
    "slideshow": {
     "slide_type": "notes"
    }
   },
   "source": [
    "Le Web, aussi nommé le Word Wide Web, est un système de communication sur internet.\n",
    "Il permet la communication d'hypertexte via le hypertext transfert protocol, HTTP.\n",
    "\n"
   ]
  },
  {
   "cell_type": "markdown",
   "id": "9882b565",
   "metadata": {
    "slideshow": {
     "slide_type": "slide"
    }
   },
   "source": [
    "## HTML\n",
    "\n",
    "- Le HyperText Markup Language (HTML) est un format d'hypertexte standardisé\n",
    "- Peut être lu par des navigateurs internet\n",
    "\n",
    "Extrait de HTML :\n",
    "<center><img src=\"./images/html-basique.png\" style=\"max-height: 400px;\"></center>"
   ]
  },
  {
   "cell_type": "markdown",
   "id": "720157f3",
   "metadata": {
    "slideshow": {
     "slide_type": "notes"
    }
   },
   "source": [
    "Le HTML, soir le HyperText Markup Language, est un format d'hypertexte standardisé qui peut être lu par les navigateurs internets.\n",
    "\n",
    "On peut voir dans l'extrait de HTML que l'hypertexte prend la forme de plusieurs balises. Essentiellement on voit ici que tout le contenu se trouve dans la balise html, et le corps du texte est contenu dans la balise body."
   ]
  },
  {
   "cell_type": "markdown",
   "id": "d6ef3d95",
   "metadata": {
    "slideshow": {
     "slide_type": "slide"
    }
   },
   "source": [
    "## Naviguer sur le Web\n",
    "\n",
    "- Requête HTTP à une adresse (`http://localhost:5000`)\n",
    "\n",
    "- Le serveur réponds par de l'hypertexte :\n",
    "<center><img src=\"./images/html-basique.png\" style=\"max-height: 400px;\"></center>\n",
    "\n",
    "- Le navigateur fait un rendu :\n",
    "<center><img src=\"./images/page-basique.png\" style=\"max-height: 400px;\"></center>"
   ]
  },
  {
   "cell_type": "markdown",
   "id": "c3f8df0e",
   "metadata": {
    "slideshow": {
     "slide_type": "notes"
    }
   },
   "source": [
    "Quand vous naviguer sur le Web, vous envoyez des requêtes HTTP, qui elles récupères des extraits d'hypertexte sous le format HTML.\n",
    "À la réception du HTML, votre navigateur fait un rendu.\n",
    "Par exemple, lorsque vous faîtes une requête à l'adresse localhost 5000, la réponse brute va être le HTML montré ici.\n",
    "Ensuite, votre navigateur va en faire un rendu."
   ]
  },
  {
   "cell_type": "markdown",
   "id": "eb5eafba",
   "metadata": {
    "slideshow": {
     "slide_type": "slide"
    }
   },
   "source": [
    "## HTML c'est bien, mais limitant\n",
    "\n",
    "- Orienté interface utilisateur\n",
    "    - Utilisable que par des navigateurs internet (en pratique)  \n",
    "    - Restreint à la souris (en pratique)\n",
    "    - __Pas vraiment utilisable d'un vu programmatique__"
   ]
  },
  {
   "cell_type": "markdown",
   "id": "1d005b3a",
   "metadata": {
    "slideshow": {
     "slide_type": "fragment"
    }
   },
   "source": [
    "- Que doit-on utiliser?\n",
    "    - Plusieurs autres façons d'implémenter le modèle client-serveur sur le Web :\n",
    "        - SOAP\n",
    "        - __API REST__"
   ]
  },
  {
   "cell_type": "markdown",
   "id": "7a1fc3a4",
   "metadata": {
    "slideshow": {
     "slide_type": "notes"
    }
   },
   "source": [
    "Le HTML c'est cool, mais c'est aussi limitant. C'est très orienté interface utilisateur, donc ce n'est utilisable que par des navigateurs internet et par la souris en pratique. Essentiellement, ce n'est pas utilisable de façon programmatique.\n",
    "\n",
    "Donc vient la question sur quoi utiliser si on veut rendre accessible nos fonctionnalités ou données par le web sans nécessairement passer par une interface utilisateur en HTML. Les deux méthodes typiques c'est le SOAP, ayant eu une première version en 1998, et les API REST, ayant eu une première version en 2000. \n",
    "Le SOAP est assez peu utilisé en pratique aujourd'hui, on le voit surtout dans les vieux systèmes. Ce qui est commun de rencontrer aujourd'hui, ce sont les API REST, qui est le sujet de la présentation d'aujourd'hui."
   ]
  },
  {
   "cell_type": "markdown",
   "id": "09a0ca83",
   "metadata": {
    "slideshow": {
     "slide_type": "skip"
    }
   },
   "source": [
    "## Pourquoi le Web est pertinent?\n",
    "\n",
    "- Interagir avec des systèmes d'information/bases de données\n",
    "- Traitement de données (i.e. soumettre des jobs)\n",
    "- Centraliser une information ou fonctionnalitée afin de la distribuée d'une source unique\n",
    "- __Bref, rendre accessible des informations, fonctionnalités et des données à distance__"
   ]
  },
  {
   "cell_type": "markdown",
   "id": "689ba7df",
   "metadata": {
    "slideshow": {
     "slide_type": "skip"
    }
   },
   "source": [
    "Pourquoi le Web et les API REST pourraient être pertinents pour vous? \n",
    "C'est parce que de plus en plus, les ressources sont accessibles à partir du Web.\n",
    "Ça peut être des bases de données ou de pouvoir utiliser des algorithmes en lançant des traitements.\n",
    "\n",
    "Un autre aspect intéressant c'est qu'en hébergeant vos données où vos algorithmes à un seul endroit, vous vous assurez d'avoir une référence unique que vous contrôlez. Si vous la mettez à jour, elle se met à jour pour tout le monde. Bref, le web permet de rendre accessible des informations, fonctionnalités et données à distance."
   ]
  },
  {
   "cell_type": "markdown",
   "id": "f6af35e3",
   "metadata": {
    "slideshow": {
     "slide_type": "slide"
    }
   },
   "source": [
    "# <center>Qu'est-ce qu'une API REST</center>"
   ]
  },
  {
   "cell_type": "markdown",
   "id": "bd2d8100",
   "metadata": {
    "slideshow": {
     "slide_type": "slide"
    }
   },
   "source": [
    "## API REST\n",
    "- API : Application Programming Interface\n",
    "    - __Façade__ d'une application qui rend ses fonctionnalités disponnibles à une autre\n",
    "    - Permet d'interagir avec une application de façon programmatique"
   ]
  },
  {
   "cell_type": "markdown",
   "id": "2d89e2e0",
   "metadata": {
    "slideshow": {
     "slide_type": "fragment"
    }
   },
   "source": [
    "- REST : REpresentational State Transfer\n",
    "    - Ensemble de contraintes pour une API\n",
    "        - Web (architecutre client-serveur, HTTP)\n",
    "        - Sans état (chaque requête doit être traitée de façon indépendante)\n",
    "        - ...\n",
    "    - Lorsque qu'une API suit ces contraites, elle est REST"
   ]
  },
  {
   "cell_type": "markdown",
   "id": "322e6671",
   "metadata": {
    "slideshow": {
     "slide_type": "notes"
    }
   },
   "source": [
    "Un API, qui est en anglais une Application Programming Interface, donc Interface de programmation, est essentiellement une façade des fonctionnalités qui peut être utilisée par d'autres applications. On peut par exemple rendre accessible certaines fonctionnalités ou données d'une application à une autre. On peut dire que la communication de HTML permet à des êtres humains d'intéragir avec l'application, alors qu'une API permet aux application d'intéragir avec l'application.  \n",
    "Par contre, notez que le concept d'API n'est pas unique au Web, mais quand on parle d'API, c'est très souvent dans un contexte Web.\n",
    "\n",
    "REST c'est pour Representational State Transfer. Ça c'est une liste de contraintes pour une API sur le Web. Essentiellement, les contraintes sont que l'API doit suivre le modèle client-serveur, que les requête passe par le Web, donc via des messages HTTP, et que le serveur est sans état. Ça veut dire que chaque requête doit être traitée de façon indépendante. Bref, quand une API suit toutes ces contraintes, elle est considérées REST."
   ]
  },
  {
   "cell_type": "markdown",
   "id": "2f29f92e",
   "metadata": {
    "slideshow": {
     "slide_type": "slide"
    }
   },
   "source": [
    "# <center>Comment utiliser une API REST</center>"
   ]
  },
  {
   "cell_type": "markdown",
   "id": "027f1a54",
   "metadata": {
    "slideshow": {
     "slide_type": "slide"
    }
   },
   "source": [
    "## Interagir avec une API REST\n",
    "\n",
    "- 4 types de requêtes typiquement utilisées \n",
    "<center><img src=\"./images/client-serveur-rest.png\" style=\"max-width: 600px;\"></center>"
   ]
  },
  {
   "cell_type": "markdown",
   "id": "df964db8",
   "metadata": {
    "slideshow": {
     "slide_type": "notes"
    }
   },
   "source": [
    "Il y a 4 types de requêtes typiques pour intéragir avec une API REST.\n",
    "- Le GET : c'est la plus simple, c'est une requête pour récupérer de l'information. Quand vous entrez une adresse web dans votre browser (ex. Google traduction), votre brower fait une requête GET pour récupérer le HTML. Dans un contexte de REST API par contre, ce n'est pas du HTML, ça doit être un format lisible par des algorithme, comme le XML ou le JSON. Typiquement c'est le JSON qui est utilisé.\n",
    "- Le POST : c'est une requête pour créer ou soumettre quelque chose. Par exemple, lorsque vous remplisser un formulaire ou un questionnaire, les réponses aux questions sont envoyés en POST.\n",
    "- Le PUT : c'est une requête pour mettre une valeur à jour. Avec le même exemple du formulaire, vous pourriez mettre à jour une réponse à une question d'un formulaire déjà soumis. Le résultat du formulaire a déjà été soumis, on vient simplement le modifier. Le PUT est une opération idempotente.\n",
    "- Le DELETE : c'est une requête de suppression."
   ]
  },
  {
   "cell_type": "markdown",
   "id": "d14fa815",
   "metadata": {
    "slideshow": {
     "slide_type": "slide"
    }
   },
   "source": [
    "## Format JSON\n",
    "- Typiquement, le format d'hypertexte utilisé est le JSON (JavaScript Object Notation)\n",
    "- Structure clé-valeur (équivalent du dictionnaire Python)\n",
    "```javascript\n",
    "{\n",
    "    'clé-1': 'valeur',\n",
    "    'clé-2': true,\n",
    "    'clé-3': 42,\n",
    "    'clé-4': null,\n",
    "    'clé-5': ['element1', 'element2'],\n",
    "    'clé-6': {\n",
    "        'autre-clé-1': 'autre-valeur',\n",
    "        ...\n",
    "    }\n",
    "}\n",
    "``` "
   ]
  },
  {
   "cell_type": "markdown",
   "id": "ac4d0764",
   "metadata": {
    "slideshow": {
     "slide_type": "notes"
    }
   },
   "source": [
    "Le format d'hypertexte typiquement utilisé par les API REST c'est le JSON, ou Javascript Object Notation. C'est un format très similaire aux objets Python, comme les dictionnaires et les listes."
   ]
  },
  {
   "cell_type": "markdown",
   "id": "06adac22",
   "metadata": {
    "slideshow": {
     "slide_type": "slide"
    }
   },
   "source": [
    "## Codes HTTP\n",
    "- Chaque réponse du serveur est accompagné d'un code HTTP\n",
    "- Le code indique le status de la requête\n",
    "- Les plus courants : \n",
    "    - __200__ : Succès de la requête\n",
    "    - __201__ : Ressource créée avec succès\n",
    "    - __400__ : Mauvaise requête (synthaxe erronée, élément manquant, ...)\n",
    "    - __401__ : Utilisateur non-identifié\n",
    "    - __403__ : Accès refusé\n",
    "    - __404__ : Ressource inexistante\n",
    "    - ..."
   ]
  },
  {
   "cell_type": "markdown",
   "id": "9f7cf39d",
   "metadata": {
    "slideshow": {
     "slide_type": "slide"
    }
   },
   "source": [
    "## Formuler une requête et comprendre la réponse avec Python\n",
    "- La bibliothèque `requests` permet de faire des requête\n",
    "- Supposons une API REST `http://localhost:5000/hello_world`"
   ]
  },
  {
   "cell_type": "code",
   "execution_count": 36,
   "id": "1bece59a",
   "metadata": {
    "slideshow": {
     "slide_type": "fragment"
    }
   },
   "outputs": [
    {
     "name": "stdout",
     "output_type": "stream",
     "text": [
      "Code HTTP       :  200\n",
      "Contenu brute   :  b'{\"message\": \"Bonjour le monde!\"}\\n'\n",
      "Contenu formaté :  {'message': 'Bonjour le monde!'}\n"
     ]
    }
   ],
   "source": [
    "import requests\n",
    "response = requests.get(\"http://localhost:5000/hello_world\")\n",
    "\n",
    "print('Code HTTP       : ', response.status_code)\n",
    "print('Contenu brute   : ', response.content)\n",
    "print('Contenu formaté : ', response.json())"
   ]
  },
  {
   "cell_type": "markdown",
   "id": "e62dcce8",
   "metadata": {
    "slideshow": {
     "slide_type": "slide"
    }
   },
   "source": [
    "# <center>Exemples d'utlisation d'API REST</center>"
   ]
  },
  {
   "cell_type": "markdown",
   "id": "4af19b2b",
   "metadata": {
    "slideshow": {
     "slide_type": "slide"
    }
   },
   "source": [
    "## Exemple simple\n",
    "\n",
    "- Supposons une API REST qui gère une liste de TODO\n",
    "    - `http://localhost:5000/todo/<TODO_ID>`\n",
    "\n",
    "- Requête HTTP GET (récupération du message \"mon_message\")"
   ]
  },
  {
   "cell_type": "code",
   "execution_count": 74,
   "id": "4c7c5c4f",
   "metadata": {
    "slideshow": {
     "slide_type": "fragment"
    }
   },
   "outputs": [
    {
     "name": "stdout",
     "output_type": "stream",
     "text": [
      "Code HTTP :  200\n",
      "[{'done': False, 'id': 1, 'title': \"Aller à l'épicerie\"},\n",
      " {'done': False, 'id': 2, 'title': \"Étudier pour l'examen d'électromag\"}]\n"
     ]
    }
   ],
   "source": [
    "response = requests.get(\"http://localhost:5000/todo\")\n",
    "\n",
    "print('Code HTTP : ', response.status_code)\n",
    "pprint(response.json())"
   ]
  },
  {
   "cell_type": "markdown",
   "id": "7bc52805",
   "metadata": {
    "slideshow": {
     "slide_type": "slide"
    }
   },
   "source": [
    "## Exemple simple\n",
    "\n",
    "- Requête HTTP GET (récupération de la tâche \"2\")"
   ]
  },
  {
   "cell_type": "code",
   "execution_count": 75,
   "id": "c04667a9",
   "metadata": {
    "scrolled": true,
    "slideshow": {
     "slide_type": "fragment"
    }
   },
   "outputs": [
    {
     "name": "stdout",
     "output_type": "stream",
     "text": [
      "Code HTTP :  200\n",
      "{'done': False, 'id': 2, 'title': \"Étudier pour l'examen d'électromag\"}\n"
     ]
    }
   ],
   "source": [
    "response = requests.get(\"http://localhost:5000/todo/2\")\n",
    "\n",
    "print('Code HTTP : ', response.status_code)\n",
    "pprint(response.json())"
   ]
  },
  {
   "cell_type": "markdown",
   "id": "7be03340",
   "metadata": {
    "slideshow": {
     "slide_type": "slide"
    }
   },
   "source": [
    "## Exemple simple\n",
    "\n",
    "- Requête HTTP POST (création d'une nouvelle tâche)"
   ]
  },
  {
   "cell_type": "code",
   "execution_count": 76,
   "id": "808c7aeb",
   "metadata": {
    "scrolled": true,
    "slideshow": {
     "slide_type": "fragment"
    }
   },
   "outputs": [
    {
     "name": "stdout",
     "output_type": "stream",
     "text": [
      "Code HTTP :  200\n",
      "[{'id': 1, 'title': \"Aller à l'épicerie\", 'done': False}, {'id': 2, 'title': \"Étudier pour l'examen d'électromag\", 'done': False}, {'id': 3, 'title': 'Payer mes frais de scolarité', 'done': False}]\n"
     ]
    }
   ],
   "source": [
    "requests.post(\"http://localhost:5000/todo\", data={'title': 'Payer mes frais de scolarité'})\n",
    "response = requests.get(\"http://localhost:5000/todo\")\n",
    "\n",
    "print('Code HTTP : ', response.status_code)\n",
    "print(response.json())"
   ]
  },
  {
   "cell_type": "markdown",
   "id": "b1ebd284",
   "metadata": {
    "slideshow": {
     "slide_type": "slide"
    }
   },
   "source": [
    "## Exemple simple\n",
    "\n",
    "- Requête HTTP PUT (Met la tâche 2 à jour)"
   ]
  },
  {
   "cell_type": "code",
   "execution_count": 66,
   "id": "daaf14f8",
   "metadata": {
    "scrolled": true,
    "slideshow": {
     "slide_type": "fragment"
    }
   },
   "outputs": [
    {
     "name": "stdout",
     "output_type": "stream",
     "text": [
      "Code HTTP :  200\n",
      "{'id': 2, 'title': \"Étudier pour l'examen d'électromag\", 'done': 'True'}\n"
     ]
    }
   ],
   "source": [
    "requests.put(\"http://localhost:5000/todo/2\", data={'done': True})\n",
    "response = requests.get(\"http://localhost:5000/todo/2\")\n",
    "\n",
    "print('Code HTTP : ', response.status_code)\n",
    "print(response.json())"
   ]
  },
  {
   "cell_type": "markdown",
   "id": "d9787520",
   "metadata": {
    "slideshow": {
     "slide_type": "slide"
    }
   },
   "source": [
    "## Exemple simple\n",
    "\n",
    "- Requête HTTP DELETE (Supprime la tâche 2)"
   ]
  },
  {
   "cell_type": "code",
   "execution_count": 71,
   "id": "630ebfd7",
   "metadata": {
    "slideshow": {
     "slide_type": "fragment"
    }
   },
   "outputs": [
    {
     "name": "stdout",
     "output_type": "stream",
     "text": [
      "Code HTTP :  404\n",
      "{'error': 'Task ID \"2\" not found'}\n"
     ]
    }
   ],
   "source": [
    "requests.delete(\"http://localhost:5000/todo/2\")\n",
    "response = requests.get(\"http://localhost:5000/todo/2\")\n",
    "\n",
    "print('Code HTTP : ', response.status_code)\n",
    "print(response.json())"
   ]
  },
  {
   "cell_type": "markdown",
   "id": "e055cf56",
   "metadata": {
    "slideshow": {
     "slide_type": "slide"
    }
   },
   "source": [
    "## Exemple : Google traduction\n",
    "\n",
    "Google traduction a une page Web\n",
    "\n",
    "<center>\n",
    "<img src=\"images/google-traduction.gif\" height=\"500\">\n",
    "</center>"
   ]
  },
  {
   "cell_type": "markdown",
   "id": "9798cfa4",
   "metadata": {
    "slideshow": {
     "slide_type": "slide"
    }
   },
   "source": [
    "## Exemple : Google traduction\n",
    "\n",
    "Possible de passer par l'API REST Google Traduction :"
   ]
  },
  {
   "cell_type": "code",
   "execution_count": 16,
   "id": "50c22f1c",
   "metadata": {
    "slideshow": {
     "slide_type": "fragment"
    }
   },
   "outputs": [],
   "source": [
    "response = requests.post(\n",
    "    url='https://translation.googleapis.com/language/translate/v2',\n",
    "    params={\n",
    "        'q': 'Le texte à traduire',\n",
    "        'source': 'fr',\n",
    "        'target': 'en',\n",
    "        'format': 'text',\n",
    "        'key': GOOGLE_API_KEY,\n",
    "    }\n",
    ")"
   ]
  },
  {
   "cell_type": "markdown",
   "id": "718346e4",
   "metadata": {
    "slideshow": {
     "slide_type": "slide"
    }
   },
   "source": [
    "## Exemple : Goolge traduction\n",
    "\n",
    "- Architecture de la solution\n",
    "\n",
    "<center>\n",
    "<img src=\"images/traduction-app-architecture.png\" height=\"500\">\n",
    "</center>"
   ]
  },
  {
   "cell_type": "markdown",
   "id": "f9ef2d8e",
   "metadata": {
    "slideshow": {
     "slide_type": "slide"
    }
   },
   "source": [
    "## Exemple : Google traduction\n",
    "\n",
    "- Les fonctionnalités de Google Traduction sont accessibles par son API REST.\n",
    "- Rend possible de développer nos propres applications tout en utilisant les fonctionnalités de Google\n",
    "<center>\n",
    "    <img src=\"images/traduction-app.gif\" height=\"500\">\n",
    "</center>"
   ]
  },
  {
   "cell_type": "markdown",
   "id": "f4f45301",
   "metadata": {
    "slideshow": {
     "slide_type": "slide"
    }
   },
   "source": [
    "## Exemple : Prédiction du cancer du sein\n",
    "\n",
    "- Utilisation d'API REST dans le cadre d'une étude scientifique\n",
    "<center>\n",
    "    <img src=\"images/perspective.png\" max-height=\"700\">\n",
    "</center>"
   ]
  },
  {
   "cell_type": "markdown",
   "id": "6e0d9cad",
   "metadata": {
    "slideshow": {
     "slide_type": "slide"
    }
   },
   "source": [
    "## Exemple : Prédiction du cancer du sein\n",
    "<center>\n",
    "    <img src=\"images/canrisk-home.png\" max-height=\"700\">\n",
    "</center>"
   ]
  },
  {
   "cell_type": "markdown",
   "id": "98f9bc82",
   "metadata": {
    "slideshow": {
     "slide_type": "slide"
    }
   },
   "source": [
    "## Exemple : Prédiction du cancer\n",
    "\n",
    "<center>\n",
    "    <img src=\"images/boadicea-arch.png\" max-height=\"500\">\n",
    "</center>"
   ]
  },
  {
   "cell_type": "markdown",
   "id": "8db9b23f",
   "metadata": {
    "slideshow": {
     "slide_type": "slide"
    }
   },
   "source": [
    "## Exemple : Prédiction du cancer du sein\n",
    "\n",
    "- Données en jeu\n",
    "    - 2000 participantes\n",
    "    - Plus de 100 variables pour chaque participante\n",
    "    \n",
    "- Site Web Canrisk\n",
    "    - Moins de fonctionnalités\n",
    "    - Erreurs humaines\n",
    "    \n",
    "- API REST\n",
    "    - Possible de traiter toutes les participantes en un script\n",
    "    - Conserver automatiquement les résultats"
   ]
  },
  {
   "cell_type": "markdown",
   "id": "f6d5d8a9",
   "metadata": {
    "slideshow": {
     "slide_type": "slide"
    }
   },
   "source": [
    "## Exemple : Prediction du Cancer\n",
    "<center>\n",
    "    <img src=\"images/canrisk-tool.png\" max-height=\"700\">\n",
    "</center>"
   ]
  },
  {
   "cell_type": "markdown",
   "id": "d3bdda86",
   "metadata": {
    "slideshow": {
     "slide_type": "slide"
    }
   },
   "source": [
    "## Exemple : Prédiction du cancer du sein\n",
    "- Requête POST à `https://canrisk.org/boadicea`\n",
    "<center>\n",
    "    <img src=\"images/boadicea-pedigree.png\" max-height=\"700\">\n",
    "</center>"
   ]
  },
  {
   "cell_type": "markdown",
   "id": "0fa050ed",
   "metadata": {
    "slideshow": {
     "slide_type": "slide"
    }
   },
   "source": [
    "## Exemple : Prédiction du cancer du sein\n",
    "\n",
    "- La réponse à la requête POST\n",
    "<center>\n",
    "    <img src=\"images/boadicea-results.png\" max-height=\"700\">\n",
    "</center>"
   ]
  },
  {
   "cell_type": "markdown",
   "id": "ef712c8e",
   "metadata": {
    "slideshow": {
     "slide_type": "slide"
    }
   },
   "source": [
    "## Exemple : Prédiction du cancer du sein\n",
    "\n",
    "<center>\n",
    "    <img src=\"images/boadicea-script.png\" width=\"650\">\n",
    "</center>"
   ]
  },
  {
   "cell_type": "markdown",
   "id": "d10b7621",
   "metadata": {
    "slideshow": {
     "slide_type": "slide"
    }
   },
   "source": [
    "## Conclusion\n",
    "\n",
    "- Les API REST :\n",
    "    - Une façon d'avoir accès à des ressources (données, algorithmes, informations) via le Web\n",
    "    - Suit le modèle __client-serveur__ sur le Web\n",
    "    - Le client est un script ou une application\n",
    "        - En contraste avec le HTML, qui est pour l'interaction humaine via navigateur\n",
    "    - Typiquement \n",
    "        - 4 types de requêtes utilisées : GET, POST, PUT, DELETE\n",
    "        - L'hypertexte à le format JSON"
   ]
  },
  {
   "cell_type": "markdown",
   "id": "331bd783",
   "metadata": {
    "slideshow": {
     "slide_type": "slide"
    }
   },
   "source": [
    "## Atelier à venir :\n",
    "\n",
    "- Récupérer, anonymiser et calculer des données issues de la physique médicale!\n",
    "<center>\n",
    "    <img src=\"images/atelier.png\" width=\"600\">\n",
    "</center>"
   ]
  }
 ],
 "metadata": {
  "celltoolbar": "Diaporama",
  "kernelspec": {
   "display_name": "Python 3 (ipykernel)",
   "language": "python",
   "name": "python3"
  },
  "language_info": {
   "codemirror_mode": {
    "name": "ipython",
    "version": 3
   },
   "file_extension": ".py",
   "mimetype": "text/x-python",
   "name": "python",
   "nbconvert_exporter": "python",
   "pygments_lexer": "ipython3",
   "version": "3.10.2"
  }
 },
 "nbformat": 4,
 "nbformat_minor": 5
}
