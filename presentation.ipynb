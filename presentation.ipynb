{
 "cells": [
  {
   "cell_type": "code",
   "execution_count": 1,
   "id": "3ce8f9db",
   "metadata": {
    "scrolled": true,
    "slideshow": {
     "slide_type": "skip"
    }
   },
   "outputs": [],
   "source": [
    "%load_ext dotenv\n",
    "%dotenv\n",
    "\n",
    "import json\n",
    "import os\n",
    "\n",
    "import requests\n",
    "\n",
    "GOOGLE_API_KEY = os.environ.get('GOOGLE_API_KEY')\n",
    "if GOOGLE_API_KEY is None:\n",
    "    raise ValueError('GOOGLE_API_KEY should not be None')"
   ]
  },
  {
   "cell_type": "markdown",
   "id": "58d1a71e",
   "metadata": {
    "slideshow": {
     "slide_type": "slide"
    }
   },
   "source": [
    "# <center> API REST : interagir avec le Web sans la souris </center>\n",
    "\n",
    "\n",
    "<br>\n",
    "\n",
    "<center>Gabriel Couture, Félix-Antoine Fortin, Olivier Chouinard-Banville</center>\n"
   ]
  },
  {
   "cell_type": "markdown",
   "id": "8025cdd1",
   "metadata": {
    "slideshow": {
     "slide_type": "notes"
    }
   },
   "source": [
    "Bonjour à tous, bienvenu à la présentation \"API REST : interagir avec le Web sans la souris\".\n",
    "\n",
    "Je m'apelle Gabriel Couture et je suis membre de l'équipe de développement de logiciels de recherche de l'Université Laval. Félix-Antoine Fortin et Olivier Chouinard-Banville sont mes collègues."
   ]
  },
  {
   "cell_type": "markdown",
   "id": "a464a7e5",
   "metadata": {
    "slideshow": {
     "slide_type": "slide"
    }
   },
   "source": [
    "## Objectifs de la présentation\n",
    "- Comprendre la pertinence du Web et des API REST\n",
    "- Comprendre ce qu'est une API REST\n",
    "- Comprendre comment utiliser un API REST\n",
    "- Comprendre comment utiliser ces notions dans des exemples concrets"
   ]
  },
  {
   "cell_type": "markdown",
   "id": "b1156cb3",
   "metadata": {
    "slideshow": {
     "slide_type": "notes"
    }
   },
   "source": [
    "L'objectif de la présentation est d'abord de comprendre le web ou les API REST pourraient être pertinent pour vous et après comment c'est quoi.\n",
    "Esuite, ce sera de comprendre comment utiliser et dans quelles situations les utiliser. \n",
    "\n",
    "Finalement, on va voir des exemples concrets de comment des physiciens/ingénieurs/scientifiques peuvent utiliser ça dans de vrais situations. "
   ]
  },
  {
   "cell_type": "markdown",
   "id": "09a0ca83",
   "metadata": {
    "slideshow": {
     "slide_type": "slide"
    }
   },
   "source": [
    "## Pourquoi le Web est pertinent?\n",
    "\n",
    "- Interagir avec des systèmes d'information/bases de données\n",
    "- Traitement de données (i.e. soumettre des jobs)\n",
    "- Centraliser une information ou fonctionnalitée afin la distribuée d'une source unique\n",
    "- __Bref, rendre accessible des informations, fonctionnalités et des données à distance__"
   ]
  },
  {
   "cell_type": "markdown",
   "id": "d5e144a4",
   "metadata": {
    "slideshow": {
     "slide_type": "fragment"
    }
   },
   "source": [
    "Suit le modèle __client-serveur__ :\n",
    "\n",
    "<center><img src=\"./images/client-serveur.png\" style=\"max-width: 550px;\"></center>"
   ]
  },
  {
   "cell_type": "markdown",
   "id": "689ba7df",
   "metadata": {
    "slideshow": {
     "slide_type": "notes"
    }
   },
   "source": [
    "Pourquoi le Web et les API REST pourraient être pertinents pour vous? \n",
    "C'est parce que de plus en plus, les ressources sont accessibles à partir du Web.\n",
    "Ça peut être des bases de données ou de pouvoir utiliser des algorithmes en lançant des traitements.\n",
    "\n",
    "Un autre aspect intéressant c'est qu'en hébergeant vos données où vos algorithmes à un seul endroit, vous vous assurez d'avoir une référence unique que vous contrôlez. Si vous la mettez à jour, elle se met à jour pour tout le monde. Bref, le web permet de rendre accessible des informations, fonctionnalités et données à distance.\n",
    "\n",
    "Essentiellement, les API REST sont une façon d'appliquer le modèle client-serveur, un modèle où l'utilisateur, qui est le client, utilise des ressources d'un autre, le serveur. \n",
    "Aujourd'hui on va parler des API REST, qui est une des façons d'utiliser le modèle client-serveur par le Web, mais notez qu'il y a plusieurs autres façons d'implémenter le modèle client-serveur."
   ]
  },
  {
   "cell_type": "markdown",
   "id": "0ea95846",
   "metadata": {
    "slideshow": {
     "slide_type": "slide"
    }
   },
   "source": [
    "## Le Web, c'est quoi?\n",
    "\n",
    "- Le _World Wide Web_ est un système de communication d'__hypertexte__ sur internet\n",
    "- Plus précisément, il rend possible de communicer de l'hypertexte via le __HyperText Transfer Protocol (HTTP)__"
   ]
  },
  {
   "cell_type": "markdown",
   "id": "f527360a",
   "metadata": {
    "slideshow": {
     "slide_type": "fragment"
    }
   },
   "source": [
    "\n",
    "<center><img src=\"./images/navigateur-traduction.png\" style=\"max-width: 1200px;\"></center>"
   ]
  },
  {
   "cell_type": "markdown",
   "id": "e9db8fb3",
   "metadata": {
    "slideshow": {
     "slide_type": "notes"
    }
   },
   "source": [
    "Le Web, aussi nommé le Word Wide Web, est un système de communication sur internet.\n",
    "Il permet la communication d'hypertexte via le hypertext transfert protocol, HTTP.\n",
    "\n",
    "Vous connaissez tous des applications qui sont dédiées à faire des requêtes HTTP, vos navigateurs internets.\n",
    "Les navigateurs ne sont essentiellement que des applications qui font des requêtes HTTP et qui affiche l'hypertexte qu'ils ont reçu en réponse. Lorsque vous navigué sur le Web, la réponse à vos requêtes est typiquement du HTML.\n"
   ]
  },
  {
   "cell_type": "markdown",
   "id": "9882b565",
   "metadata": {
    "slideshow": {
     "slide_type": "slide"
    }
   },
   "source": [
    "## HTML\n",
    "\n",
    "- Le HyperText Markup Language (HTML) est un format d'hypertexte standardisé qui peut être lu par des navigateurs internet\n",
    "\n",
    "Extrait de HTML :\n",
    "<center><img src=\"./images/html-basique.png\" style=\"max-height: 400px;\"></center>"
   ]
  },
  {
   "cell_type": "markdown",
   "id": "720157f3",
   "metadata": {
    "slideshow": {
     "slide_type": "notes"
    }
   },
   "source": [
    "Le HTML, soir le HyperText Markup Language, est un format d'hypertexte standardisé qui peut être lu par les navigateurs internets.\n",
    "\n",
    "On peut voir dans l'extrait de HTML que l'hypertexte prend la forme de plusieurs balises. Essentiellement on voit ici que tout le contenu se trouve dans la balise html, et le corps du texte est contenu dans la balise body."
   ]
  },
  {
   "cell_type": "markdown",
   "id": "703fca2f",
   "metadata": {
    "slideshow": {
     "slide_type": "slide"
    }
   },
   "source": [
    "## Naviguer sur le Web\n",
    "\n",
    "- Envoi de requêtes HTTP\n",
    "- Reçoit un extrait HTML en retour\n",
    "- Rendu par le navigateur internet (ex. Google Chrome, FireFox)\n"
   ]
  },
  {
   "cell_type": "markdown",
   "id": "886da624",
   "metadata": {
    "slideshow": {
     "slide_type": "notes"
    }
   },
   "source": [
    "Quand vous naviguer sur le Web, vous envoyez des requêtes HTTP, qui elles récupères des extraits d'hypertexte sous le format HTML.\n",
    "À la réception du HTML, votre navigateur fait un rendu."
   ]
  },
  {
   "cell_type": "markdown",
   "id": "d6ef3d95",
   "metadata": {
    "slideshow": {
     "slide_type": "slide"
    }
   },
   "source": [
    "## Naviguer sur le Web : exemple\n",
    "\n",
    "- Requête à l'adresse `http://localhost:5000`\n",
    "\n",
    "- Le serveur renvoi ce morceau d'hypertexte :\n",
    "<center><img src=\"./images/html-basique.png\" style=\"max-height: 400px;\"></center>\n",
    "\n",
    "- Le rendu :\n",
    "<center><img src=\"./images/page-basique.png\" style=\"max-height: 400px;\"></center>"
   ]
  },
  {
   "cell_type": "markdown",
   "id": "c3f8df0e",
   "metadata": {
    "slideshow": {
     "slide_type": "notes"
    }
   },
   "source": [
    "Par exemple, lorsque vous faîtes une requête à l'adresse localhost 5000, la réponse brute va être le HTML montré ici.\n",
    "Ensuite, votre navigateur va en faire un rendu."
   ]
  },
  {
   "cell_type": "markdown",
   "id": "eb5eafba",
   "metadata": {
    "slideshow": {
     "slide_type": "slide"
    }
   },
   "source": [
    "## HTML c'est cool, mais limitant\n",
    "\n",
    "- Orienté interface utilisateur (UI)\n",
    "    - Utilisable que par des navigateurs internet (en pratique)  \n",
    "    - Restreint à la souris (en pratique)\n",
    "    - __Pas vraiment utilisable d'un vu programmatique__"
   ]
  },
  {
   "cell_type": "markdown",
   "id": "1d005b3a",
   "metadata": {
    "slideshow": {
     "slide_type": "fragment"
    }
   },
   "source": [
    "- Que doit-on utiliser?\n",
    "    - Plusieurs façons d'implémenter le modèle client-serveur sur le Web :\n",
    "        - SOAP (1998)\n",
    "        - __API REST__ (2000)"
   ]
  },
  {
   "cell_type": "markdown",
   "id": "7a1fc3a4",
   "metadata": {
    "slideshow": {
     "slide_type": "notes"
    }
   },
   "source": [
    "Le HTML c'est cool, mais c'est aussi limitant. C'est très orienté interface utilisateur, donc ce n'est utilisable que par des navigateurs internet et par la souris en pratique. Essentiellement, ce n'est pas utilisable de façon programmatique.\n",
    "\n",
    "Donc vient la question sur quoi utiliser si on veut rendre accessible nos fonctionnalités ou données par le web sans nécessairement passer par une interface utilisateur en HTML. Les deux méthodes typiques c'est le SOAP, ayant eu une première version en 1998, et les API REST, ayant eu une première version en 2000. \n",
    "Le SOAP est assez peu utilisé en pratique aujourd'hui, on le voit surtout dans les vieux systèmes. Ce qui est commun de rencontrer aujourd'hui, ce sont les API REST, qui est le sujet de la présentation d'aujourd'hui."
   ]
  },
  {
   "cell_type": "markdown",
   "id": "bd2d8100",
   "metadata": {
    "slideshow": {
     "slide_type": "slide"
    }
   },
   "source": [
    "## API REST\n",
    "- API : Application Programming Interface\n",
    "    - __Façade__ d'une application qui rend disponible Ensemble de services (fonctions, classes, service Web, ...) qui offre une _façade_ aux fonctionnalités d'une autre application\n",
    "    - Permet à une application d'intéragir avec l'application qui expose un API\n",
    "    - Donc, utilisable de façon programmatique\n"
   ]
  },
  {
   "cell_type": "markdown",
   "id": "2d89e2e0",
   "metadata": {
    "slideshow": {
     "slide_type": "fragment"
    }
   },
   "source": [
    "- REST : REpresentational State Transfer\n",
    "    - Ensemble de contraintes pour une API sur le Web\n",
    "        - Modèle client-serveur\n",
    "        - HTTP\n",
    "        - Sans état (chaque requête doit être traitée de façon indépendante)\n",
    "        - ...\n",
    "    - Lorsque qu'une API suit ces contraites, elle est REST"
   ]
  },
  {
   "cell_type": "markdown",
   "id": "322e6671",
   "metadata": {
    "slideshow": {
     "slide_type": "notes"
    }
   },
   "source": [
    "Un API, qui est en anglais une Application Programming Interface, donc Interface de programmation, est essentiellement une façade des fonctionnalités qui peut être utilisée par d'autres applications. On peut par exemple rendre accessible certaines fonctionnalités ou données d'une application à une autre. On peut dire que la communication de HTML permet à des êtres humains d'intéragir avec l'application, alors qu'une API permet aux application d'intéragir avec l'application.  \n",
    "Par contre, notez que le concept d'API n'est pas unique au Web, mais quand on parle d'API, c'est très souvent dans un contexte Web.\n",
    "\n",
    "REST c'est pour Representational State Transfer. Ça c'est une liste de contraintes pour une API sur le Web. Essentiellement, les contraintes sont que l'API doit suivre le modèle client-serveur, que les requête passe par le Web, donc via des messages HTTP, et que le serveur est sans état. Ça veut dire que chaque requête doit être traitée de façon indépendante. Bref, quand une API suit toutes ces contraintes, elle est considérées REST."
   ]
  },
  {
   "cell_type": "markdown",
   "id": "027f1a54",
   "metadata": {
    "slideshow": {
     "slide_type": "slide"
    }
   },
   "source": [
    "## Interagir avec une API REST\n",
    "\n",
    "- 4 types de requêtes typiquement utilisées \n",
    "<center><img src=\"./images/client-serveur-rest.png\" style=\"max-width: 800px;\"></center>\n",
    "\n",
    "- Typiquement le format utilisé est le JSON. Par exemple :\n",
    "```JSON\n",
    "{'messages': ['Bonjour', 'comment allez-vous?']}\n",
    "```"
   ]
  },
  {
   "cell_type": "markdown",
   "id": "df964db8",
   "metadata": {
    "slideshow": {
     "slide_type": "notes"
    }
   },
   "source": [
    "Il y a 4 types de requêtes typiques pour intéragir avec une API REST.\n",
    "- Le GET : c'est la plus simple, c'est une requête pour récupérer de l'information. Quand vous entrez une adresse web dans votre browser (ex. Google traduction), votre brower fait une requête GET pour récupérer le HTML. Dans un contexte de REST API par contre, ce n'est pas du HTML, ça doit être un format lisible par des algorithme, comme le XML ou le JSON. Typiquement c'est le JSON qui est utilisé.\n",
    "- Le POST : c'est une requête pour créer ou soumettre quelque chose. Par exemple, lorsque vous remplisser un formulaire ou un questionnaire, les réponses aux questions sont envoyés en POST.\n",
    "- Le PUT : c'est une requête pour mettre une valeur à jour. Avec le même exemple du formulaire, vous pourriez mettre à jour une réponse à une question d'un formulaire déjà soumis. Le résultat du formulaire a déjà été soumis, on vient simplement le modifier. Le PUT est une opération idempotente.\n",
    "- Le DELETE : c'est une requête de suppression."
   ]
  },
  {
   "cell_type": "markdown",
   "id": "4af19b2b",
   "metadata": {
    "slideshow": {
     "slide_type": "slide"
    }
   },
   "source": [
    "## Exemple simple\n",
    "\n",
    "Supposon une API REST `http://localhost:5000/api/messages/<message_ID>`"
   ]
  },
  {
   "cell_type": "code",
   "execution_count": 9,
   "id": "c04667a9",
   "metadata": {
    "slideshow": {
     "slide_type": "fragment"
    }
   },
   "outputs": [
    {
     "data": {
      "text/plain": [
       "'Not Found: \"mon_message\"'"
      ]
     },
     "execution_count": 9,
     "metadata": {},
     "output_type": "execute_result"
    }
   ],
   "source": [
    "import requests\n",
    "requests.get(\"http://localhost:5000/api/messages/mon_message\").json()"
   ]
  },
  {
   "cell_type": "code",
   "execution_count": 10,
   "id": "808c7aeb",
   "metadata": {
    "scrolled": true,
    "slideshow": {
     "slide_type": "fragment"
    }
   },
   "outputs": [
    {
     "data": {
      "text/plain": [
       "{'mon_message': 'Bonjour!'}"
      ]
     },
     "execution_count": 10,
     "metadata": {},
     "output_type": "execute_result"
    }
   ],
   "source": [
    "requests.post(\"http://localhost:5000/api/messages/mon_message\", data={'message': 'Bonjour!'})\n",
    "requests.get(\"http://localhost:5000/api/messages/mon_message\").json()"
   ]
  },
  {
   "cell_type": "code",
   "execution_count": 11,
   "id": "95906d78",
   "metadata": {
    "slideshow": {
     "slide_type": "fragment"
    }
   },
   "outputs": [
    {
     "data": {
      "text/plain": [
       "'Already exists: \"mon_message\"'"
      ]
     },
     "execution_count": 11,
     "metadata": {},
     "output_type": "execute_result"
    }
   ],
   "source": [
    "requests.post(\"http://localhost:5000/api/messages/mon_message\", data={'message': 'Bonjour!'}).json()"
   ]
  },
  {
   "cell_type": "code",
   "execution_count": 12,
   "id": "daaf14f8",
   "metadata": {
    "slideshow": {
     "slide_type": "fragment"
    }
   },
   "outputs": [
    {
     "data": {
      "text/plain": [
       "{'mon_message': 'Bonjour une autre fois!'}"
      ]
     },
     "execution_count": 12,
     "metadata": {},
     "output_type": "execute_result"
    }
   ],
   "source": [
    "requests.put(\"http://localhost:5000/api/messages/mon_message\", data={'message': 'Bonjour une autre fois!'})\n",
    "requests.get(\"http://localhost:5000/api/messages/mon_message\").json()"
   ]
  },
  {
   "cell_type": "code",
   "execution_count": 14,
   "id": "630ebfd7",
   "metadata": {
    "slideshow": {
     "slide_type": "fragment"
    }
   },
   "outputs": [
    {
     "data": {
      "text/plain": [
       "'Not Found: \"mon_message\"'"
      ]
     },
     "execution_count": 14,
     "metadata": {},
     "output_type": "execute_result"
    }
   ],
   "source": [
    "requests.delete(\"http://localhost:5000/api/messages/mon_message\")\n",
    "requests.get(\"http://localhost:5000/api/messages/mon_message\").json()"
   ]
  },
  {
   "cell_type": "markdown",
   "id": "f644c9bb",
   "metadata": {
    "slideshow": {
     "slide_type": "notes"
    }
   },
   "source": []
  },
  {
   "cell_type": "markdown",
   "id": "e055cf56",
   "metadata": {
    "slideshow": {
     "slide_type": "slide"
    }
   },
   "source": [
    "## Exemple : Google traduction\n",
    "\n",
    "Google traduction a une page Web\n",
    "\n",
    "<center>\n",
    "<img src=\"images/google-traduction.gif\" height=\"500\">\n",
    "</center>"
   ]
  },
  {
   "cell_type": "markdown",
   "id": "4181214b",
   "metadata": {
    "slideshow": {
     "slide_type": "notes"
    }
   },
   "source": []
  },
  {
   "cell_type": "markdown",
   "id": "9798cfa4",
   "metadata": {
    "slideshow": {
     "slide_type": "slide"
    }
   },
   "source": [
    "## Exemple : Google traduction\n",
    "\n",
    "Possible de passer par l'API REST Google Traduction :"
   ]
  },
  {
   "cell_type": "code",
   "execution_count": 16,
   "id": "50c22f1c",
   "metadata": {
    "slideshow": {
     "slide_type": "fragment"
    }
   },
   "outputs": [],
   "source": [
    "response = requests.post(\n",
    "    url='https://translation.googleapis.com/language/translate/v2',\n",
    "    params={\n",
    "        'q': 'Le texte à traduire',\n",
    "        'source': 'fr',\n",
    "        'target': 'en',\n",
    "        'format': 'text',\n",
    "        'key': GOOGLE_API_KEY,\n",
    "    }\n",
    ")"
   ]
  },
  {
   "cell_type": "markdown",
   "id": "f9ef2d8e",
   "metadata": {
    "slideshow": {
     "slide_type": "slide"
    }
   },
   "source": [
    "## Exemple : Google traduction\n",
    "\n",
    "- Les fonctionnalités de Google Traduction sont accessibles par son API REST.\n",
    "- Rend possible de développer nos propres applications tout en utilisant les fonctionnalités de Google\n",
    "<center>\n",
    "    <img src=\"images/traduction-app.gif\" height=\"500\">\n",
    "</center>"
   ]
  },
  {
   "cell_type": "markdown",
   "id": "f4f45301",
   "metadata": {
    "slideshow": {
     "slide_type": "slide"
    }
   },
   "source": [
    "## Exemple : Prédiction du cancer du sein\n",
    "\n",
    "<center>\n",
    "    <img src=\"images/perspective.png\" max-height=\"700\">\n",
    "</center>"
   ]
  },
  {
   "cell_type": "markdown",
   "id": "6e0d9cad",
   "metadata": {
    "slideshow": {
     "slide_type": "slide"
    }
   },
   "source": [
    "## Exemple : Prédiction du cancer du sein\n",
    "<center>\n",
    "    <img src=\"images/canrisk-home.png\" max-height=\"700\">\n",
    "</center>"
   ]
  },
  {
   "cell_type": "markdown",
   "id": "98f9bc82",
   "metadata": {
    "slideshow": {
     "slide_type": "slide"
    }
   },
   "source": [
    "## Exemple : Prédiction du cancer\n",
    "\n",
    "<center>\n",
    "    <img src=\"images/boadicea-arch.png\" max-height=\"500\">\n",
    "</center>"
   ]
  },
  {
   "cell_type": "markdown",
   "id": "8db9b23f",
   "metadata": {
    "slideshow": {
     "slide_type": "slide"
    }
   },
   "source": [
    "## Exemple : Prédiction du cancer du sein\n",
    "\n",
    "- Données en jeu\n",
    "    - 2000 participantes\n",
    "    - Plus de 100 variables pour chaque participante\n",
    "    \n",
    "- Site Web Canrisk\n",
    "    - Moins de fonctionnalités\n",
    "    - Erreurs humaines\n",
    "    \n",
    "- API REST\n",
    "    - Possible de traiter toutes les participantes en un script\n",
    "    - Conserver automatiquement les résultats"
   ]
  },
  {
   "cell_type": "markdown",
   "id": "f6d5d8a9",
   "metadata": {
    "slideshow": {
     "slide_type": "slide"
    }
   },
   "source": [
    "## Exemple : Prediction du Cancer\n",
    "<center>\n",
    "    <img src=\"images/canrisk-tool.png\" max-height=\"700\">\n",
    "</center>"
   ]
  },
  {
   "cell_type": "markdown",
   "id": "d3bdda86",
   "metadata": {
    "slideshow": {
     "slide_type": "slide"
    }
   },
   "source": [
    "## Exemple : Prédiction du cancer du sein\n",
    "- Requête POST à `https://canrisk.org/boadicea`\n",
    "<center>\n",
    "    <img src=\"images/boadicea-pedigree.png\" max-height=\"700\">\n",
    "</center>"
   ]
  },
  {
   "cell_type": "markdown",
   "id": "0fa050ed",
   "metadata": {
    "slideshow": {
     "slide_type": "slide"
    }
   },
   "source": [
    "## Exemple : Prédiction du cancer du sein\n",
    "\n",
    "- La réponse à la requête POST\n",
    "<center>\n",
    "    <img src=\"images/boadicea-results.png\" max-height=\"700\">\n",
    "</center>"
   ]
  },
  {
   "cell_type": "markdown",
   "id": "ef712c8e",
   "metadata": {
    "slideshow": {
     "slide_type": "slide"
    }
   },
   "source": [
    "## Exemple : Prédiction du cancer du sein\n",
    "\n",
    "<center>\n",
    "    <img src=\"images/boadicea-script.png\" width=\"700\">\n",
    "</center>"
   ]
  },
  {
   "cell_type": "markdown",
   "id": "905a6e3e",
   "metadata": {
    "slideshow": {
     "slide_type": "slide"
    }
   },
   "source": [
    "## Exemple : Physique médicale\n",
    "\n"
   ]
  },
  {
   "cell_type": "markdown",
   "id": "c0c3da45",
   "metadata": {
    "slideshow": {
     "slide_type": "slide"
    }
   },
   "source": [
    "## Exemple : Océanographie\n",
    "\n",
    "- Exemple où une API REST __aurait__ dû être utilisé\n",
    "\n",
    "<center>\n",
    "    <img src=\"images/magtogoek.gif\" max-height=\"700\">\n",
    "</center>"
   ]
  }
 ],
 "metadata": {
  "celltoolbar": "Diaporama",
  "kernelspec": {
   "display_name": "Python 3 (ipykernel)",
   "language": "python",
   "name": "python3"
  },
  "language_info": {
   "codemirror_mode": {
    "name": "ipython",
    "version": 3
   },
   "file_extension": ".py",
   "mimetype": "text/x-python",
   "name": "python",
   "nbconvert_exporter": "python",
   "pygments_lexer": "ipython3",
   "version": "3.10.2"
  }
 },
 "nbformat": 4,
 "nbformat_minor": 5
}
