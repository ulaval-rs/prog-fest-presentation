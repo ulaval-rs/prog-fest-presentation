{
 "cells": [
  {
   "cell_type": "code",
   "execution_count": 23,
   "id": "3ce8f9db",
   "metadata": {
    "scrolled": true,
    "slideshow": {
     "slide_type": "skip"
    }
   },
   "outputs": [
    {
     "name": "stdout",
     "output_type": "stream",
     "text": [
      "The dotenv extension is already loaded. To reload it, use:\n",
      "  %reload_ext dotenv\n"
     ]
    }
   ],
   "source": [
    "%load_ext dotenv\n",
    "%dotenv\n",
    "\n",
    "import json\n",
    "import os\n",
    "from pprint import pprint\n",
    "\n",
    "import requests\n",
    "\n",
    "GOOGLE_API_KEY = os.environ.get('GOOGLE_API_KEY')\n",
    "if GOOGLE_API_KEY is None:\n",
    "    raise ValueError('GOOGLE_API_KEY should not be None')"
   ]
  },
  {
   "cell_type": "markdown",
   "id": "58d1a71e",
   "metadata": {
    "slideshow": {
     "slide_type": "slide"
    },
    "tags": []
   },
   "source": [
    "# <center>Premiers pas avec les API REST</center>\n",
    "\n",
    "<br>\n",
    "<center>Gabriel Couture, Félix-Antoine Fortin, Olivier Chouinard-Banville</center>"
   ]
  },
  {
   "cell_type": "markdown",
   "id": "2f6d299a",
   "metadata": {
    "slideshow": {
     "slide_type": "slide"
    }
   },
   "source": [
    "## Objectifs\n",
    "\n",
    "<br>\n",
    "\n",
    "- Comprendre à quels besoins les API REST répondent\n",
    "- Comprendre ce qu'est une API REST\n",
    "- Comprendre comment intéragir avec une API REST"
   ]
  },
  {
   "cell_type": "markdown",
   "id": "260ff4c6",
   "metadata": {
    "slideshow": {
     "slide_type": "slide"
    }
   },
   "source": [
    "## Enjeux rencontrés par des (ingénieur.e.s) physicien.ne.s\n",
    "\n",
    "<br>\n",
    "\n",
    "- Comment rendre mes ressources (fonctionnalités/données) accessibles?\n",
    "- Comment s'assurer que les utilisateurs utilisent la bonne version?"
   ]
  },
  {
   "cell_type": "markdown",
   "id": "3ba0ae18",
   "metadata": {
    "slideshow": {
     "slide_type": "slide"
    }
   },
   "source": [
    "## Exemple déjà vu : océanographie\n",
    "\n",
    "- Contexte :\n",
    "    - Pêche et Océan Canada a changé leur format de données au fil des années\n",
    "    - Les employés doivent pouvoir transformer leur données lorsque nécessaire\n",
    "- Objectifs :\n",
    "    - Conversion d'un ancien format de données à un format récent\n",
    "    - Rendre accessible cette fonctionnalité n'importe où, n'importe quand"
   ]
  },
  {
   "cell_type": "markdown",
   "id": "518be930",
   "metadata": {
    "slideshow": {
     "slide_type": "slide"
    }
   },
   "source": [
    "## Exemple déjà vu : physique médicale\n",
    "\n",
    "- Contexte :\n",
    "    - Nécessaire de travailler sur des données anonymes\n",
    "    - Le modèle d'anonymisation de données DICOM change dans le temps\n",
    "        - Important que la dernière version soit utilisée\n",
    "- Objectifs :\n",
    "    - Anonymiser des données DICOM (images, plans de traitement, etc.)\n",
    "    - S'assurer que tous utilisent la dernière version"
   ]
  },
  {
   "cell_type": "markdown",
   "id": "e4036eea",
   "metadata": {
    "slideshow": {
     "slide_type": "slide"
    }
   },
   "source": [
    "## Synthèse des besoins\n",
    "\n",
    "- Accès de ressources à distance, via la Web (HTTP) par exemple\n",
    "- Contrôle sur le contenu\n",
    "- Source unique\n",
    "   \n",
    "<center><img src=\"./images/client-serveur-multiple.png\" style=\"max-height: 300px;\"></center>"
   ]
  },
  {
   "cell_type": "markdown",
   "id": "5b7b2f53",
   "metadata": {
    "slideshow": {
     "slide_type": "slide"
    }
   },
   "source": [
    "## Solution : architecture client-serveur\n",
    "\n",
    "<center><img src=\"./images/client-serveur.png\" style=\"max-height: 200px;\"></center>"
   ]
  },
  {
   "cell_type": "markdown",
   "id": "282125dc",
   "metadata": {
    "slideshow": {
     "slide_type": "fragment"
    }
   },
   "source": [
    "API REST\n",
    "- Une des implémentations client-serveur \n",
    "- Simple d'utilisation\n",
    "- Simple d'implémentation\n",
    "- Populaire"
   ]
  },
  {
   "cell_type": "markdown",
   "id": "ae5ade34",
   "metadata": {
    "slideshow": {
     "slide_type": "skip"
    },
    "tags": []
   },
   "source": [
    "# <center>Le Web</center>\n",
    "<br>"
   ]
  },
  {
   "cell_type": "markdown",
   "id": "0ea95846",
   "metadata": {
    "slideshow": {
     "slide_type": "skip"
    }
   },
   "source": [
    "## D'abord, c'est quoi le Web?\n",
    "\n",
    "- Le _World Wide Web_ est un système de communication d'__hypertexte__ sur internet\n",
    "- Plus précisément, il rend possible de communicer de l'hypertexte via le __HyperText Transfer Protocol (HTTP)__\n",
    "- Permet de rendre accessible des __données, informations et fonctionnalités à distance__"
   ]
  },
  {
   "cell_type": "markdown",
   "id": "f527360a",
   "metadata": {
    "slideshow": {
     "slide_type": "skip"
    }
   },
   "source": [
    "- Architecture __client-serveur__\n",
    "<center><img src=\"./images/client-serveur.png\" style=\"width: 700px;\"></center>"
   ]
  },
  {
   "cell_type": "markdown",
   "id": "9882b565",
   "metadata": {
    "slideshow": {
     "slide_type": "skip"
    }
   },
   "source": [
    "## HTML\n",
    "\n",
    "- Le HyperText Markup Language (HTML) est un format d'hypertexte standardisé\n",
    "- Peut être lu par des navigateurs internet\n",
    "\n",
    "Extrait de HTML :\n",
    "<center><img src=\"./images/html-basique.png\" style=\"max-height: 400px;\"></center>"
   ]
  },
  {
   "cell_type": "markdown",
   "id": "d6ef3d95",
   "metadata": {
    "slideshow": {
     "slide_type": "skip"
    }
   },
   "source": [
    "## Naviguer sur le Web\n",
    "\n",
    "- Requête HTTP à une adresse (`http://localhost:5000`)\n",
    "\n",
    "- Le serveur réponds par de l'hypertexte :\n",
    "<center><img src=\"./images/html-basique.png\" style=\"max-height: 400px;\"></center>\n",
    "\n",
    "- Le navigateur fait un rendu :\n",
    "<center><img src=\"./images/page-basique.png\" style=\"max-height: 400px;\"></center>"
   ]
  },
  {
   "cell_type": "markdown",
   "id": "eb5eafba",
   "metadata": {
    "slideshow": {
     "slide_type": "skip"
    }
   },
   "source": [
    "## HTML c'est bien, mais limitant\n",
    "\n",
    "- Orienté interface utilisateur\n",
    "    - Utilisable que par des navigateurs internet (en pratique)  \n",
    "    - Restreint à la souris (en pratique)\n",
    "    - __Pas vraiment utilisable d'un vu programmatique__"
   ]
  },
  {
   "cell_type": "markdown",
   "id": "1d005b3a",
   "metadata": {
    "slideshow": {
     "slide_type": "skip"
    }
   },
   "source": [
    "- Que doit-on utiliser?\n",
    "    - Plusieurs autres façons d'implémenter le modèle client-serveur sur le Web :\n",
    "        - SOAP\n",
    "        - __API REST__"
   ]
  },
  {
   "cell_type": "markdown",
   "id": "09a0ca83",
   "metadata": {
    "slideshow": {
     "slide_type": "skip"
    }
   },
   "source": [
    "## Pourquoi le Web est pertinent?\n",
    "\n",
    "- Interagir avec des systèmes d'information/bases de données\n",
    "- Traitement de données (i.e. soumettre des jobs)\n",
    "- Centraliser une information ou fonctionnalitée afin de la distribuée d'une source unique\n",
    "- __Bref, rendre accessible des informations, fonctionnalités et des données à distance__"
   ]
  },
  {
   "cell_type": "markdown",
   "id": "689ba7df",
   "metadata": {
    "slideshow": {
     "slide_type": "skip"
    }
   },
   "source": [
    "Pourquoi le Web et les API REST pourraient être pertinents pour vous? \n",
    "C'est parce que de plus en plus, les ressources sont accessibles à partir du Web.\n",
    "Ça peut être des bases de données ou de pouvoir utiliser des algorithmes en lançant des traitements.\n",
    "\n",
    "Un autre aspect intéressant c'est qu'en hébergeant vos données où vos algorithmes à un seul endroit, vous vous assurez d'avoir une référence unique que vous contrôlez. Si vous la mettez à jour, elle se met à jour pour tout le monde. Bref, le web permet de rendre accessible des informations, fonctionnalités et données à distance."
   ]
  },
  {
   "cell_type": "markdown",
   "id": "7a1fc3a4",
   "metadata": {
    "slideshow": {
     "slide_type": "notes"
    }
   },
   "source": [
    "Le HTML c'est cool, mais c'est aussi limitant. C'est très orienté interface utilisateur, donc ce n'est utilisable que par des navigateurs internet et par la souris en pratique. Essentiellement, ce n'est pas utilisable de façon programmatique.\n",
    "\n",
    "Donc vient la question sur quoi utiliser si on veut rendre accessible nos fonctionnalités ou données par le web sans nécessairement passer par une interface utilisateur en HTML. Les deux méthodes typiques c'est le SOAP, ayant eu une première version en 1998, et les API REST, ayant eu une première version en 2000. \n",
    "Le SOAP est assez peu utilisé en pratique aujourd'hui, on le voit surtout dans les vieux systèmes. Ce qui est commun de rencontrer aujourd'hui, ce sont les API REST, qui est le sujet de la présentation d'aujourd'hui."
   ]
  },
  {
   "cell_type": "markdown",
   "id": "0d272447",
   "metadata": {
    "slideshow": {
     "slide_type": "slide"
    }
   },
   "source": [
    "# <center>API REST</center>\n",
    "<br>"
   ]
  },
  {
   "cell_type": "markdown",
   "id": "bd2d8100",
   "metadata": {
    "slideshow": {
     "slide_type": "slide"
    }
   },
   "source": [
    "## API REST\n",
    "- API : Application Programming Interface\n",
    "    - __Façade__ d'une application qui rend ses fonctionnalités disponnibles à une autre\n",
    "    - Permet d'interagir avec une application de façon programmatique"
   ]
  },
  {
   "cell_type": "markdown",
   "id": "2d89e2e0",
   "metadata": {
    "slideshow": {
     "slide_type": "fragment"
    }
   },
   "source": [
    "- REST : REpresentational State Transfer\n",
    "    - Ensemble de contraintes pour une API\n",
    "        - Architecutre __client-serveur__ \n",
    "        - HTTP\n",
    "        - Sans état (chaque requête doit être traitée de façon indépendante)\n",
    "        - ...\n",
    "    - Lorsque qu'une API suit ces contraites, elle est REST"
   ]
  },
  {
   "cell_type": "markdown",
   "id": "322e6671",
   "metadata": {
    "slideshow": {
     "slide_type": "notes"
    }
   },
   "source": [
    "Un API, qui est en anglais une Application Programming Interface, donc Interface de programmation, est essentiellement une façade des fonctionnalités qui peut être utilisée par d'autres applications. On peut par exemple rendre accessible certaines fonctionnalités ou données d'une application à une autre. On peut dire que la communication de HTML permet à des êtres humains d'intéragir avec l'application, alors qu'une API permet aux application d'intéragir avec l'application.  \n",
    "Par contre, notez que le concept d'API n'est pas unique au Web, mais quand on parle d'API, c'est très souvent dans un contexte Web.\n",
    "\n",
    "REST c'est pour Representational State Transfer. Ça c'est une liste de contraintes pour une API sur le Web. Essentiellement, les contraintes sont que l'API doit suivre le modèle client-serveur, que les requête passe par le Web, donc via des messages HTTP, et que le serveur est sans état. Ça veut dire que chaque requête doit être traitée de façon indépendante. Bref, quand une API suit toutes ces contraintes, elle est considérées REST."
   ]
  },
  {
   "cell_type": "markdown",
   "id": "e336f925",
   "metadata": {
    "slideshow": {
     "slide_type": "slide"
    }
   },
   "source": [
    "## API REST\n",
    "- Similaire à une page Web\n",
    "    - Page Web : requête HTTP et reçoit du HTML\n",
    "    - API REST : requête HTTP et reçoit des données \n",
    "<center><img src=\"./images/client-serveur-rest-web.png\" style=\"max-width: 550px;\"></center>"
   ]
  },
  {
   "cell_type": "markdown",
   "id": "2dbab8a8",
   "metadata": {
    "slideshow": {
     "slide_type": "slide"
    }
   },
   "source": [
    "# <center>Comment utiliser une API REST</center>\n",
    "<br>"
   ]
  },
  {
   "cell_type": "markdown",
   "id": "027f1a54",
   "metadata": {
    "slideshow": {
     "slide_type": "slide"
    }
   },
   "source": [
    "## Interagir avec une API REST\n",
    "\n",
    "- 4 types de requêtes typiquement utilisées \n",
    "<center><img src=\"./images/client-serveur-rest.png\" style=\"width: 700px;\"></center>"
   ]
  },
  {
   "cell_type": "markdown",
   "id": "df964db8",
   "metadata": {
    "slideshow": {
     "slide_type": "notes"
    }
   },
   "source": [
    "Il y a 4 types de requêtes typiques pour intéragir avec une API REST.\n",
    "- Le GET : c'est la plus simple, c'est une requête pour récupérer de l'information. Quand vous entrez une adresse web dans votre browser (ex. Google traduction), votre brower fait une requête GET pour récupérer le HTML. Dans un contexte de REST API par contre, ce n'est pas du HTML, ça doit être un format lisible par des algorithme, comme le XML ou le JSON. Typiquement c'est le JSON qui est utilisé.\n",
    "- Le POST : c'est une requête pour créer ou soumettre quelque chose. Par exemple, lorsque vous remplisser un formulaire ou un questionnaire, les réponses aux questions sont envoyés en POST.\n",
    "- Le PUT : c'est une requête pour mettre une valeur à jour. Avec le même exemple du formulaire, vous pourriez mettre à jour une réponse à une question d'un formulaire déjà soumis. Le résultat du formulaire a déjà été soumis, on vient simplement le modifier. Le PUT est une opération idempotente.\n",
    "- Le DELETE : c'est une requête de suppression."
   ]
  },
  {
   "cell_type": "markdown",
   "id": "d14fa815",
   "metadata": {
    "slideshow": {
     "slide_type": "slide"
    }
   },
   "source": [
    "## Format de données\n",
    "- Typiquement, le format utilisé est le JSON (JavaScript Object Notation)\n",
    "- Structure clé-valeur (équivalent du dictionnaire Python)\n",
    "```javascript\n",
    "{\n",
    "    'clé-1': 'valeur',\n",
    "    'clé-2': true,\n",
    "    'clé-3': 42,\n",
    "    'clé-4': null,\n",
    "    'clé-5': ['element1', 'element2'],\n",
    "    'clé-6': {\n",
    "        'autre-clé-1': 'autre-valeur',\n",
    "        ...\n",
    "    }\n",
    "}\n",
    "``` "
   ]
  },
  {
   "cell_type": "markdown",
   "id": "06adac22",
   "metadata": {
    "slideshow": {
     "slide_type": "slide"
    }
   },
   "source": [
    "## Codes HTTP\n",
    "- Chaque réponse du serveur est accompagné d'un code HTTP\n",
    "- Le code indique le status de la requête\n",
    "- Les plus courants : \n",
    "    - __200__ : Succès de la requête\n",
    "    - __201__ : Ressource créée avec succès\n",
    "    - __400__ : Mauvaise requête (synthaxe erronée, élément manquant, ...)\n",
    "    - __401__ : Utilisateur non-identifié\n",
    "    - __403__ : Accès refusé\n",
    "    - __404__ : Ressource inexistante\n",
    "    - ..."
   ]
  },
  {
   "cell_type": "markdown",
   "id": "2182c0dd",
   "metadata": {
    "slideshow": {
     "slide_type": "slide"
    }
   },
   "source": [
    "## Formuler une requête avec Python\n",
    "- La bibliothèque `requests` permet de faire des requêtes\n",
    "- Supposons une API REST `http://localhost:5000/hello_world`"
   ]
  },
  {
   "cell_type": "code",
   "execution_count": 24,
   "id": "e9ea9590",
   "metadata": {
    "slideshow": {
     "slide_type": "-"
    }
   },
   "outputs": [
    {
     "name": "stdout",
     "output_type": "stream",
     "text": [
      "Code HTTP       :  200\n",
      "Contenu brute   :  b'{\\n    \"message\": \"Bonjour le monde!\"\\n}\\n'\n",
      "Contenu formaté :  {'message': 'Bonjour le monde!'}\n"
     ]
    }
   ],
   "source": [
    "import requests\n",
    "response = requests.get(\"http://localhost:5000/hello_world\")\n",
    "\n",
    "print('Code HTTP       : ', response.status_code)\n",
    "print('Contenu brute   : ', response.content)\n",
    "print('Contenu formaté : ', response.json())"
   ]
  },
  {
   "cell_type": "markdown",
   "id": "a0557ddf",
   "metadata": {
    "slideshow": {
     "slide_type": "slide"
    }
   },
   "source": [
    "# <center>Exemples d'utlisation d'API REST</center>\n",
    "<br>"
   ]
  },
  {
   "cell_type": "markdown",
   "id": "4af19b2b",
   "metadata": {
    "slideshow": {
     "slide_type": "slide"
    }
   },
   "source": [
    "## Exemple simple\n",
    "\n",
    "- Supposons une API REST qui gère une liste de tâches (TODO)\n",
    "    - `http://localhost:5000/todo`\n",
    "\n",
    "- Requête HTTP GET (récupération de mes tâches)"
   ]
  },
  {
   "cell_type": "code",
   "execution_count": 25,
   "id": "c781b036",
   "metadata": {
    "slideshow": {
     "slide_type": "-"
    }
   },
   "outputs": [
    {
     "name": "stdout",
     "output_type": "stream",
     "text": [
      "Code HTTP :  200\n",
      "[{'done': False, 'id': 1, 'title': \"Aller à l'épicerie\"}]\n"
     ]
    }
   ],
   "source": [
    "response = requests.get(\"http://localhost:5000/todo\")\n",
    "\n",
    "print('Code HTTP : ', response.status_code)\n",
    "pprint(response.json())"
   ]
  },
  {
   "cell_type": "markdown",
   "id": "7be03340",
   "metadata": {
    "slideshow": {
     "slide_type": "slide"
    }
   },
   "source": [
    "## Exemple simple\n",
    "- Requête HTTP POST (création d'une nouvelle tâche)"
   ]
  },
  {
   "cell_type": "code",
   "execution_count": 26,
   "id": "808c7aeb",
   "metadata": {
    "scrolled": true,
    "slideshow": {
     "slide_type": "-"
    }
   },
   "outputs": [
    {
     "name": "stdout",
     "output_type": "stream",
     "text": [
      "Code HTTP :  200\n",
      "[{'done': False, 'id': 1, 'title': \"Aller à l'épicerie\"},\n",
      " {'done': False, 'id': 2, 'title': 'Payer mes frais de scolarité'}]\n"
     ]
    }
   ],
   "source": [
    "requests.post(\"http://localhost:5000/todo\", data={'title': 'Payer mes frais de scolarité'})\n",
    "response = requests.get(\"http://localhost:5000/todo\")\n",
    "\n",
    "print('Code HTTP : ', response.status_code)\n",
    "pprint(response.json())"
   ]
  },
  {
   "cell_type": "markdown",
   "id": "ce5bded7",
   "metadata": {
    "slideshow": {
     "slide_type": "slide"
    }
   },
   "source": [
    "## Exemple simple\n",
    "\n",
    "- Possible de gérer les tâches individuellement via la route\n",
    "    - `http://localhost:5000/todo/<TODO_ID>`\n",
    "- Requête HTTP GET (récupération de la tâche \"2\")"
   ]
  },
  {
   "cell_type": "code",
   "execution_count": 27,
   "id": "c04667a9",
   "metadata": {
    "scrolled": true,
    "slideshow": {
     "slide_type": "-"
    }
   },
   "outputs": [
    {
     "name": "stdout",
     "output_type": "stream",
     "text": [
      "Code HTTP :  200\n",
      "{'done': False, 'id': 2, 'title': 'Payer mes frais de scolarité'}\n"
     ]
    }
   ],
   "source": [
    "response = requests.get(\"http://localhost:5000/todo/2\")\n",
    "\n",
    "print('Code HTTP : ', response.status_code)\n",
    "pprint(response.json())"
   ]
  },
  {
   "cell_type": "markdown",
   "id": "b1ebd284",
   "metadata": {
    "slideshow": {
     "slide_type": "slide"
    }
   },
   "source": [
    "## Exemple simple\n",
    "\n",
    "- Requête HTTP PUT (remplace une valeur dans la tâche \"2\")"
   ]
  },
  {
   "cell_type": "code",
   "execution_count": 28,
   "id": "daaf14f8",
   "metadata": {
    "scrolled": true,
    "slideshow": {
     "slide_type": "-"
    }
   },
   "outputs": [
    {
     "name": "stdout",
     "output_type": "stream",
     "text": [
      "Code HTTP :  200\n",
      "{'done': 'True', 'id': 2, 'title': 'Payer mes frais de scolarité'}\n"
     ]
    }
   ],
   "source": [
    "requests.put(\"http://localhost:5000/todo/2\", data={'done': True})\n",
    "response = requests.get(\"http://localhost:5000/todo/2\")\n",
    "\n",
    "print('Code HTTP : ', response.status_code)\n",
    "pprint(response.json())"
   ]
  },
  {
   "cell_type": "markdown",
   "id": "d9787520",
   "metadata": {
    "slideshow": {
     "slide_type": "fragment"
    }
   },
   "source": [
    "- Requête HTTP DELETE (supprime la tâche \"2\")"
   ]
  },
  {
   "cell_type": "code",
   "execution_count": 29,
   "id": "630ebfd7",
   "metadata": {
    "slideshow": {
     "slide_type": "-"
    }
   },
   "outputs": [
    {
     "name": "stdout",
     "output_type": "stream",
     "text": [
      "Code HTTP :  200\n",
      "[{'done': False, 'id': 1, 'title': \"Aller à l'épicerie\"}]\n"
     ]
    }
   ],
   "source": [
    "requests.delete(\"http://localhost:5000/todo/2\")\n",
    "response = requests.get(\"http://localhost:5000/todo\")\n",
    "\n",
    "print('Code HTTP : ', response.status_code)\n",
    "pprint(response.json())"
   ]
  },
  {
   "cell_type": "markdown",
   "id": "e055cf56",
   "metadata": {
    "slideshow": {
     "slide_type": "slide"
    }
   },
   "source": [
    "## Exemple : Google traduction\n",
    "\n",
    "Supposons que nous voulons faire application de traduction.\n",
    "\n",
    "<center>\n",
    "<img src=\"images/google-traduction.gif\" height=\"500\">\n",
    "</center>"
   ]
  },
  {
   "cell_type": "markdown",
   "id": "9798cfa4",
   "metadata": {
    "slideshow": {
     "slide_type": "slide"
    },
    "tags": []
   },
   "source": [
    "## Exemple : Google traduction\n",
    "\n",
    "Possible de passer par l'API REST Google Traduction :"
   ]
  },
  {
   "cell_type": "code",
   "execution_count": 30,
   "id": "50c22f1c",
   "metadata": {
    "slideshow": {
     "slide_type": "-"
    },
    "tags": []
   },
   "outputs": [],
   "source": [
    "response = requests.post(\n",
    "    url='https://translation.googleapis.com/language/translate/v2',\n",
    "    params={\n",
    "        'q': 'Le texte à traduire',\n",
    "        'source': 'fr',\n",
    "        'target': 'en',\n",
    "        'format': 'text',\n",
    "        'key': GOOGLE_API_KEY,\n",
    "    }\n",
    ")"
   ]
  },
  {
   "cell_type": "markdown",
   "id": "718346e4",
   "metadata": {
    "slideshow": {
     "slide_type": "slide"
    }
   },
   "source": [
    "## Exemple : Goolge traduction\n",
    "\n",
    "Architecture de la solution :\n",
    "\n",
    "<center>\n",
    "<img src=\"images/traduction-app-architecture.png\" height=\"500\">\n",
    "</center>"
   ]
  },
  {
   "cell_type": "markdown",
   "id": "f9ef2d8e",
   "metadata": {
    "slideshow": {
     "slide_type": "slide"
    }
   },
   "source": [
    "## Exemple : Google traduction\n",
    "\n",
    "- Fonctionnalités de Google Traduction accessibles par son API REST\n",
    "- Permet de développer nos propres applications utilisant les fonctionnalités de Google\n",
    "<center>\n",
    "    <img src=\"images/traduction-app.gif\" height=\"500\">\n",
    "</center>"
   ]
  },
  {
   "cell_type": "markdown",
   "id": "f4f45301",
   "metadata": {
    "slideshow": {
     "slide_type": "slide"
    }
   },
   "source": [
    "## Exemple : Calcul du risque de cancer du sein\n",
    "\n",
    "Utilisation d'API REST dans le cadre d'une étude scientifique.\n",
    "<center>\n",
    "    <img src=\"images/perspective.png\" max-height=\"700\">\n",
    "</center>"
   ]
  },
  {
   "cell_type": "markdown",
   "id": "6e0d9cad",
   "metadata": {
    "slideshow": {
     "slide_type": "slide"
    }
   },
   "source": [
    "## Exemple : Calcul du risque de cancer du sein\n",
    "\n",
    "Un algorithme a été développé à l'Université de Cambridge pour estimer le risque de cancer du sein.\n",
    "<br>\n",
    "<center>\n",
    "    <img src=\"images/canrisk-home.png\" max-height=\"700\">\n",
    "</center>"
   ]
  },
  {
   "cell_type": "markdown",
   "id": "98f9bc82",
   "metadata": {
    "slideshow": {
     "slide_type": "slide"
    }
   },
   "source": [
    "## Exemple : Calcul du risque de cancer du sein\n",
    "\n",
    "L'algorithme est accessible de deux façons :\n",
    "<center>\n",
    "    <img src=\"images/boadicea-arch.png\" max-height=\"500\">\n",
    "</center>"
   ]
  },
  {
   "cell_type": "markdown",
   "id": "8db9b23f",
   "metadata": {
    "slideshow": {
     "slide_type": "slide"
    }
   },
   "source": [
    "## Exemple : Calcul du risque de cancer du sein\n",
    "\n",
    "Dans le contexte de cette étude :\n",
    "\n",
    "- Données en jeu\n",
    "    - 2000 participantes\n",
    "    - Plus de 100 variables pour chaque participante\n",
    "    \n",
    "- Site Web Canrisk\n",
    "    - Nombre de variables par participante limité\n",
    "    - Erreurs humaines\n",
    "    \n",
    "- API REST\n",
    "    - Possible de traiter toutes les participantes en un script\n",
    "    - Plus grande flexibilité quant à la soumission des variables des participantes\n",
    "    - Pas d'erreur de saisie de données"
   ]
  },
  {
   "cell_type": "markdown",
   "id": "f6d5d8a9",
   "metadata": {
    "slideshow": {
     "slide_type": "slide"
    }
   },
   "source": [
    "## Exemple : Calcul du risque de cancer du sein\n",
    "<center>\n",
    "    <img src=\"images/canrisk-tool.png\" width=\"700\">\n",
    "</center>"
   ]
  },
  {
   "cell_type": "markdown",
   "id": "d3bdda86",
   "metadata": {
    "slideshow": {
     "slide_type": "slide"
    }
   },
   "source": [
    "## Exemple : Calcul du risque de cancer du sein\n",
    "- Requête POST à `https://canrisk.org/boadicea`"
   ]
  },
  {
   "cell_type": "code",
   "execution_count": 31,
   "id": "295bdadd",
   "metadata": {
    "slideshow": {
     "slide_type": "-"
    }
   },
   "outputs": [],
   "source": [
    "response = requests.post(\n",
    "    url='https://canrisk.org/boadicea',\n",
    "    data={\n",
    "        'mut_freq': 'UK',\n",
    "        'cancer_rates': 'Canada',\n",
    "        'pedigree_data': \"\"\"\n",
    "            ##CanRisks 1.0\n",
    "            ##Menache=10\n",
    "            ##Parity=1\n",
    "            ##First_live_birth=24\n",
    "            ##OC_use-N\n",
    "            ##BMI=27.1\n",
    "            ##height=170\n",
    "            ##alcohol=5.1\n",
    "            ##FamID Name Target IndivID FathID MothID Sex MZTwin Dead Age Yob BC1 BC2 OC PRO PAN Ashkn BRCA1 BRCA2 PALB2 ...\n",
    "            XXX0 index 0 index 0 0 F 0 0 55 1960 55 0 0 0 0 0 0:0 0:0 ...\n",
    "            XXX0 sis 0 PS 0 0 F 0 1 78 1938 56 0 0 0 0 0 0:0 0:0 ...\n",
    "            XXX0 bro 0 PB 0 0 M 0 1 62 1948 0 0 0 0 0 0 0:0 0:0 ...\n",
    "            ...\"\"\"\n",
    "    }\n",
    ")"
   ]
  },
  {
   "cell_type": "markdown",
   "id": "0fa050ed",
   "metadata": {
    "slideshow": {
     "slide_type": "slide"
    }
   },
   "source": [
    "## Exemple : Calcul du risque de cancer du sein\n",
    "\n",
    "- La réponse à la requête POST\n",
    "<center>\n",
    "    <img src=\"images/boadicea-results.png\" max-height=\"700\">\n",
    "</center>"
   ]
  },
  {
   "cell_type": "markdown",
   "id": "ef712c8e",
   "metadata": {
    "slideshow": {
     "slide_type": "slide"
    }
   },
   "source": [
    "## Exemple : Calcul du risque de cancer du sein\n",
    "<center>\n",
    "    <img src=\"images/boadicea-script.png\" width=\"650\">\n",
    "</center>"
   ]
  },
  {
   "cell_type": "markdown",
   "id": "d10b7621",
   "metadata": {
    "slideshow": {
     "slide_type": "slide"
    }
   },
   "source": [
    "## Conclusion\n",
    "\n",
    "- Architecture __client-serveur__\n",
    "    - Permet d'exposer des ressources (fonctionnalités, données, etc.)\n",
    "    - Source unique\n",
    "    - Contrôle sur ce qui est accessible\n",
    "    \n",
    "- API REST :\n",
    "    - Une implémentation du modèle client-serveur\n",
    "    - Communication HTTP\n",
    "    - Le client est typiquement un script ou une application\n",
    "        - En contraste avec le HTML, qui est pour l'interaction humaine via navigateur\n",
    "    - Limitations\n",
    "        - Pas très adapté aux données volumineuses (To)\n",
    "        - Souvent, mécanique d'authentification"
   ]
  },
  {
   "cell_type": "markdown",
   "id": "331bd783",
   "metadata": {
    "slideshow": {
     "slide_type": "slide"
    }
   },
   "source": [
    "## Atelier à venir\n",
    "\n",
    "- Récupérer, anonymiser et calculer des données issues de la physique médicale!\n",
    "- Pour débuter, vous devrez\n",
    "    - Télécharger le projet https://github.com/ulaval-rs/prog-fest-web-workshop\n",
    "    - Installer Jupyter notebook et la librairie `requests`\n",
    "    - Ouvrir le notebook `atelier.ipynb`"
   ]
  },
  {
   "cell_type": "markdown",
   "id": "b00004f4",
   "metadata": {
    "slideshow": {
     "slide_type": "slide"
    }
   },
   "source": [
    "## <center>Questions?</center>\n",
    "<br>"
   ]
  }
 ],
 "metadata": {
  "celltoolbar": "Diaporama",
  "kernelspec": {
   "display_name": "Python 3 (ipykernel)",
   "language": "python",
   "name": "python3"
  },
  "language_info": {
   "codemirror_mode": {
    "name": "ipython",
    "version": 3
   },
   "file_extension": ".py",
   "mimetype": "text/x-python",
   "name": "python",
   "nbconvert_exporter": "python",
   "pygments_lexer": "ipython3",
   "version": "3.10.2"
  },
  "tags": [
   "remove-input"
  ],
  "toc-autonumbering": false,
  "toc-showcode": false,
  "toc-showmarkdowntxt": false
 },
 "nbformat": 4,
 "nbformat_minor": 5
}
